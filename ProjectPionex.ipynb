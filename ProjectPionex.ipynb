{
  "nbformat": 4,
  "nbformat_minor": 0,
  "metadata": {
    "colab": {
      "provenance": []
    },
    "kernelspec": {
      "name": "python3",
      "display_name": "Python 3"
    },
    "language_info": {
      "name": "python"
    }
  },
  "cells": [
    {
      "cell_type": "code",
      "execution_count": 46,
      "metadata": {
        "colab": {
          "base_uri": "https://localhost:8080/"
        },
        "id": "am_E0var3cuI",
        "outputId": "2d67152d-57a7-4b44-9b95-fb0153cf60e2"
      },
      "outputs": [
        {
          "output_type": "stream",
          "name": "stdout",
          "text": [
            "Missing values per column:\n",
            "Email                   0\n",
            "First Name             14\n",
            "Last Name           25605\n",
            "Phone                   0\n",
            "Country                 0\n",
            "Lang                    0\n",
            "RegistrationDate     1792\n",
            "BrandCode               0\n",
            "dtype: int64\n"
          ]
        }
      ],
      "source": [
        "# prompt: load data 241k-Singapore-pionex.com-Crypto-Trading-Bots-UsersDB-csv-2023 print missing fields\n",
        "\n",
        "import pandas as pd\n",
        "\n",
        "# Assuming the file is in your current working directory or provide the full path\n",
        "file_path = '241k-Singapore-pionex.com-Crypto-Trading-Bots-UsersDB-csv-2023.csv'\n",
        "\n",
        "try:\n",
        "    df = pd.read_csv(file_path)\n",
        "    missing_values = df.isnull().sum()\n",
        "    print(\"Missing values per column:\")\n",
        "    print(missing_values)\n",
        "\n",
        "except FileNotFoundError:\n",
        "    print(f\"Error: File not found at '{file_path}'. Please check the file path.\")\n",
        "except pd.errors.ParserError:\n",
        "    print(f\"Error: Could not parse the CSV file. Please check the file format.\")\n",
        "except Exception as e:\n",
        "    print(f\"An unexpected error occurred: {e}\")"
      ]
    },
    {
      "cell_type": "code",
      "source": [
        "import pandas as pd\n",
        "\n",
        "# Assuming the file is in your current working directory or provide the full path\n",
        "file_path = '241k-Singapore-pionex.com-Crypto-Trading-Bots-UsersDB-csv-2023.csv'\n",
        "output_file = 'garbage.csv'  # Corrected file name\n",
        "\n",
        "try:\n",
        "    df = pd.read_csv(file_path)\n",
        "\n",
        "    # Save the DataFrame to a new CSV file\n",
        "    df.to_csv(output_file, index=False)\n",
        "    print(f\"Data copied to '{output_file}'\")\n",
        "\n",
        "    # Print the first 5 rows\n",
        "    print(df.head())\n",
        "\n",
        "except FileNotFoundError:\n",
        "    print(f\"Error: File not found at '{file_path}'. Please check the file path.\")\n",
        "except pd.errors.ParserError:\n",
        "    print(f\"Error: Could not parse the CSV file. Please check the file format.\")\n",
        "except Exception as e:\n",
        "    print(f\"An unexpected error occurred: {e}\")\n"
      ],
      "metadata": {
        "colab": {
          "base_uri": "https://localhost:8080/"
        },
        "id": "jo-oOeloB2Te",
        "outputId": "1dfbb248-b513-4929-87c1-8de8cc289d49"
      },
      "execution_count": 47,
      "outputs": [
        {
          "output_type": "stream",
          "name": "stdout",
          "text": [
            "Data copied to 'garbage.csv'\n",
            "                          Email   First Name   Last Name        Phone  \\\n",
            "0          lgreaves35@gmail.com         Luke     Greaves  61431304164   \n",
            "1    jeanbaptist.tama@gmail.com  Jeanbaptist        Tama   6785555070   \n",
            "2  christianantondean@gmail.com    Christian        Dean  12424249200   \n",
            "3       manuelefereti@gmail.com      Manuele        kuki  61415050847   \n",
            "4       chrissi.mac48@gmail.com  Christopher  mcguinness  61448469538   \n",
            "\n",
            "           Country Lang  RegistrationDate   BrandCode  \n",
            "0        Australia   EN  18.08.2021 23:57  pionex.com  \n",
            "1  Solomon Islands   EN  18.08.2021 23:57  pionex.com  \n",
            "2          Bahamas   EN  18.08.2021 23:54  pionex.com  \n",
            "3        Australia   EN  18.08.2021 23:54  pionex.com  \n",
            "4        Australia   EN  18.08.2021 23:54  pionex.com  \n"
          ]
        }
      ]
    },
    {
      "cell_type": "code",
      "source": [
        "# prompt: using the file garbage.csv \"  apply the code columns_to_drop\n",
        "# Lang,\n",
        "# BrandCode\n",
        "# create a garbage1.csv with update\n",
        "# print 5 rows from garbage1.csv\n",
        "\n",
        "import pandas as pd\n",
        "\n",
        "# Load the dataframe.\n",
        "df = pd.read_csv('garbage.csv')\n",
        "\n",
        "# Columns to drop.\n",
        "columns_to_drop = ['Lang', 'BrandCode']\n",
        "\n",
        "# Drop the columns.\n",
        "df = df.drop(columns=columns_to_drop, errors='ignore')\n",
        "\n",
        "# Save to garbage1.csv\n",
        "df.to_csv('garbage1.csv', index=False)\n",
        "\n",
        "# Print 5 rows\n",
        "print(df.head())"
      ],
      "metadata": {
        "colab": {
          "base_uri": "https://localhost:8080/"
        },
        "id": "MgFKgXjS_w_J",
        "outputId": "47592159-e7f6-4b7e-c793-a2ad203d1206"
      },
      "execution_count": 48,
      "outputs": [
        {
          "output_type": "stream",
          "name": "stdout",
          "text": [
            "                          Email   First Name   Last Name        Phone  \\\n",
            "0          lgreaves35@gmail.com         Luke     Greaves  61431304164   \n",
            "1    jeanbaptist.tama@gmail.com  Jeanbaptist        Tama   6785555070   \n",
            "2  christianantondean@gmail.com    Christian        Dean  12424249200   \n",
            "3       manuelefereti@gmail.com      Manuele        kuki  61415050847   \n",
            "4       chrissi.mac48@gmail.com  Christopher  mcguinness  61448469538   \n",
            "\n",
            "           Country  RegistrationDate  \n",
            "0        Australia  18.08.2021 23:57  \n",
            "1  Solomon Islands  18.08.2021 23:57  \n",
            "2          Bahamas  18.08.2021 23:54  \n",
            "3        Australia  18.08.2021 23:54  \n",
            "4        Australia  18.08.2021 23:54  \n"
          ]
        }
      ]
    },
    {
      "cell_type": "code",
      "source": [
        "import pandas as pd\n",
        "\n",
        "# File paths\n",
        "file_path = 'garbage1.csv'  # Input file\n",
        "output_file = 'garbage2.csv'  # Output file with formatted data\n",
        "\n",
        "try:\n",
        "    # Read the CSV file into a DataFrame\n",
        "    df = pd.read_csv(file_path)\n",
        "\n",
        "    # Format 'RegistrationDate' column if it exists\n",
        "    if 'RegistrationDate' in df.columns:\n",
        "        df['RegistrationDate'] = pd.to_datetime(df['RegistrationDate'], format='%d.%m.%Y %H:%M',\n",
        "                                                dayfirst=True, errors='coerce')\n",
        "        df['RegistrationDate'] = df['RegistrationDate'].dt.strftime('%d.%m.%y')\n",
        "    else:\n",
        "        print(\"Warning: 'RegistrationDate' column not found in the CSV file.\")\n",
        "\n",
        "    # Format 'First Name' column if it exists\n",
        "    if 'First Name' in df.columns:\n",
        "        df['First Name'] = df['First Name'].astype(str).str.capitalize()\n",
        "    else:\n",
        "        print(\"Warning: 'First Name' column not found in the CSV file.\")\n",
        "\n",
        "    # Format 'Last Name' column if it exists\n",
        "    if 'Last Name' in df.columns:\n",
        "        df['Last Name'] = df['Last Name'].astype(str).str.capitalize()\n",
        "    else:\n",
        "        print(\"Warning: 'Last Name' column not found in the CSV file.\")\n",
        "\n",
        "    # Format 'Phone' column if it exists\n",
        "    if 'Phone' in df.columns:\n",
        "        df['Phone'] = df['Phone'].astype(str)\n",
        "    else:\n",
        "        print(\"Warning: 'Phone' column not found in the CSV file.\")\n",
        "\n",
        "    # Save the modified DataFrame to a new CSV file\n",
        "    df.to_csv(output_file, index=False)\n",
        "    print(f\"Data copied to '{output_file}'\")\n",
        "\n",
        "    # Display the first 5 rows of the updated DataFrame\n",
        "    print(df.head())\n",
        "\n",
        "except FileNotFoundError:\n",
        "    print(f\"Error: File not found at '{file_path}'. Please check the file path.\")\n",
        "except pd.errors.ParserError:\n",
        "    print(f\"Error: Could not parse the CSV file. Please check the file format.\")\n",
        "except Exception as e:\n",
        "    print(f\"An unexpected error occurred: {e}\")\n"
      ],
      "metadata": {
        "colab": {
          "base_uri": "https://localhost:8080/"
        },
        "id": "9vLiOpImPx6g",
        "outputId": "e6bb1aa9-ccc5-4794-87a3-7a2ad021f16c"
      },
      "execution_count": 49,
      "outputs": [
        {
          "output_type": "stream",
          "name": "stdout",
          "text": [
            "Data copied to 'garbage2.csv'\n",
            "                          Email   First Name   Last Name        Phone  \\\n",
            "0          lgreaves35@gmail.com         Luke     Greaves  61431304164   \n",
            "1    jeanbaptist.tama@gmail.com  Jeanbaptist        Tama   6785555070   \n",
            "2  christianantondean@gmail.com    Christian        Dean  12424249200   \n",
            "3       manuelefereti@gmail.com      Manuele        Kuki  61415050847   \n",
            "4       chrissi.mac48@gmail.com  Christopher  Mcguinness  61448469538   \n",
            "\n",
            "           Country RegistrationDate  \n",
            "0        Australia         18.08.21  \n",
            "1  Solomon Islands         18.08.21  \n",
            "2          Bahamas         18.08.21  \n",
            "3        Australia         18.08.21  \n",
            "4        Australia         18.08.21  \n"
          ]
        }
      ]
    },
    {
      "cell_type": "code",
      "source": [
        "# prompt: # prompt: using the file garbage2.csv replace empty fields with word 'Nan' output new data to garbage3.csv\n",
        "\n",
        "import pandas as pd\n",
        "\n",
        "# Load the dataframe.\n",
        "df = pd.read_csv('garbage2.csv')\n",
        "\n",
        "# Replace empty fields with 'Nan'\n",
        "df.fillna('Nan', inplace=True)\n",
        "\n",
        "# Save to garbage3.csv\n",
        "df.to_csv('garbage3.csv', index=False)\n",
        "\n",
        "# Print 5 rows to verify\n",
        "print(df.head())"
      ],
      "metadata": {
        "colab": {
          "base_uri": "https://localhost:8080/"
        },
        "id": "_66Q03v8KOvg",
        "outputId": "25c222f5-37bb-4a9b-959b-cb97876e7651"
      },
      "execution_count": 51,
      "outputs": [
        {
          "output_type": "stream",
          "name": "stdout",
          "text": [
            "                          Email   First Name   Last Name        Phone  \\\n",
            "0          lgreaves35@gmail.com         Luke     Greaves  61431304164   \n",
            "1    jeanbaptist.tama@gmail.com  Jeanbaptist        Tama   6785555070   \n",
            "2  christianantondean@gmail.com    Christian        Dean  12424249200   \n",
            "3       manuelefereti@gmail.com      Manuele        Kuki  61415050847   \n",
            "4       chrissi.mac48@gmail.com  Christopher  Mcguinness  61448469538   \n",
            "\n",
            "           Country RegistrationDate  \n",
            "0        Australia         18.08.21  \n",
            "1  Solomon Islands         18.08.21  \n",
            "2          Bahamas         18.08.21  \n",
            "3        Australia         18.08.21  \n",
            "4        Australia         18.08.21  \n"
          ]
        }
      ]
    },
    {
      "cell_type": "code",
      "source": [
        "\n",
        "import pandas as pd\n",
        "\n",
        "# Load the dataframe.\n",
        "df = pd.read_csv('garbage2.csv')\n",
        "\n",
        "# Replace empty fields with 'Void'\n",
        "df.fillna('Void', inplace=True)\n",
        "\n",
        "# Save to garbage3.csv\n",
        "df.to_csv('garbage3.csv', index=False)\n",
        "\n",
        "# Print 5 rows to verify\n",
        "print(df.head())"
      ],
      "metadata": {
        "colab": {
          "base_uri": "https://localhost:8080/"
        },
        "id": "1VxrbAchvmpA",
        "outputId": "706781bc-41fa-4b9c-e0dc-9b38403df776"
      },
      "execution_count": 52,
      "outputs": [
        {
          "output_type": "stream",
          "name": "stdout",
          "text": [
            "                          Email   First Name   Last Name        Phone  \\\n",
            "0          lgreaves35@gmail.com         Luke     Greaves  61431304164   \n",
            "1    jeanbaptist.tama@gmail.com  Jeanbaptist        Tama   6785555070   \n",
            "2  christianantondean@gmail.com    Christian        Dean  12424249200   \n",
            "3       manuelefereti@gmail.com      Manuele        Kuki  61415050847   \n",
            "4       chrissi.mac48@gmail.com  Christopher  Mcguinness  61448469538   \n",
            "\n",
            "           Country RegistrationDate  \n",
            "0        Australia         18.08.21  \n",
            "1  Solomon Islands         18.08.21  \n",
            "2          Bahamas         18.08.21  \n",
            "3        Australia         18.08.21  \n",
            "4        Australia         18.08.21  \n"
          ]
        }
      ]
    },
    {
      "cell_type": "code",
      "source": [
        "# prompt: using the file garbage3.csv rename headers as follow\n",
        "# First Name = first_name\n",
        "# Last Name = last_name\n",
        "# RegistrationDate = reg_date\n",
        "# output new data to garbage4.csv\n",
        "\n",
        "import pandas as pd\n",
        "\n",
        "# Load the dataframe.\n",
        "df = pd.read_csv('garbage3.csv')\n",
        "\n",
        "# Rename columns\n",
        "df = df.rename(columns={\n",
        "    'First Name': 'first_name',\n",
        "    'Last Name': 'last_name',\n",
        "    'RegistrationDate': 'reg_date'\n",
        "})\n",
        "\n",
        "# Save to garbage4.csv\n",
        "df.to_csv('garbage4.csv', index=False)\n",
        "\n",
        "# Print 5 rows of the updated DataFrame\n",
        "print(df.head())"
      ],
      "metadata": {
        "id": "KlwpbiqXuqHx",
        "colab": {
          "base_uri": "https://localhost:8080/"
        },
        "outputId": "39ab8656-ae7c-42fe-a851-0909b602b356"
      },
      "execution_count": 53,
      "outputs": [
        {
          "output_type": "stream",
          "name": "stdout",
          "text": [
            "                          Email   first_name   last_name        Phone  \\\n",
            "0          lgreaves35@gmail.com         Luke     Greaves  61431304164   \n",
            "1    jeanbaptist.tama@gmail.com  Jeanbaptist        Tama   6785555070   \n",
            "2  christianantondean@gmail.com    Christian        Dean  12424249200   \n",
            "3       manuelefereti@gmail.com      Manuele        Kuki  61415050847   \n",
            "4       chrissi.mac48@gmail.com  Christopher  Mcguinness  61448469538   \n",
            "\n",
            "           Country  reg_date  \n",
            "0        Australia  18.08.21  \n",
            "1  Solomon Islands  18.08.21  \n",
            "2          Bahamas  18.08.21  \n",
            "3        Australia  18.08.21  \n",
            "4        Australia  18.08.21  \n"
          ]
        }
      ]
    },
    {
      "cell_type": "code",
      "source": [
        "# prompt: using the file garbage4.csv place each row in order as follow\n",
        "# first_name, last_name, Phone, Country, Email, reg_date\n",
        "# output new data to garbage5.csv\n",
        "\n",
        "import pandas as pd\n",
        "\n",
        "# Load the dataframe.\n",
        "df = pd.read_csv('garbage4.csv')\n",
        "\n",
        "# Reorder columns\n",
        "new_order = ['first_name', 'last_name', 'Phone', 'Country', 'Email', 'reg_date']\n",
        "df = df[new_order]\n",
        "\n",
        "# Save to garbage5.csv\n",
        "df.to_csv('garbage5.csv', index=False)\n",
        "\n",
        "# Print 5 rows of the updated DataFrame\n",
        "print(df.head())"
      ],
      "metadata": {
        "colab": {
          "base_uri": "https://localhost:8080/"
        },
        "id": "TXd3y_Ja44_m",
        "outputId": "24e71754-2f75-4c36-c1f3-cc09b8f35ff1"
      },
      "execution_count": 54,
      "outputs": [
        {
          "output_type": "stream",
          "name": "stdout",
          "text": [
            "    first_name   last_name        Phone          Country  \\\n",
            "0         Luke     Greaves  61431304164        Australia   \n",
            "1  Jeanbaptist        Tama   6785555070  Solomon Islands   \n",
            "2    Christian        Dean  12424249200          Bahamas   \n",
            "3      Manuele        Kuki  61415050847        Australia   \n",
            "4  Christopher  Mcguinness  61448469538        Australia   \n",
            "\n",
            "                          Email  reg_date  \n",
            "0          lgreaves35@gmail.com  18.08.21  \n",
            "1    jeanbaptist.tama@gmail.com  18.08.21  \n",
            "2  christianantondean@gmail.com  18.08.21  \n",
            "3       manuelefereti@gmail.com  18.08.21  \n",
            "4       chrissi.mac48@gmail.com  18.08.21  \n"
          ]
        }
      ]
    },
    {
      "cell_type": "code",
      "source": [
        "# prompt: using garbage5.csv extract all fields containing 'Nan'\n",
        "# extract invalid email\n",
        "# to garbagePionex.csv\n",
        "# output reflecting data to cleanPionex.csv\n",
        "\n",
        "import pandas as pd\n",
        "\n",
        "# Load the dataframe.\n",
        "df = pd.read_csv('garbage5.csv')\n",
        "\n",
        "# Extract rows with 'Nan' in any field\n",
        "nan_rows = df[df.apply(lambda row: row.astype(str).str.contains('Nan').any(), axis=1)]\n",
        "\n",
        "# Extract invalid emails (assuming invalid means not containing '@')\n",
        "invalid_emails = df[~df['Email'].str.contains('@', na=False)]\n",
        "\n",
        "# Save NaN rows to garbagePionex.csv\n",
        "nan_rows.to_csv('garbagePionex.csv', index=False)\n",
        "\n",
        "# Combine rows with 'Nan' and invalid emails, drop duplicates\n",
        "combined_df = pd.concat([nan_rows, invalid_emails]).drop_duplicates()\n",
        "\n",
        "# Remove rows with 'Nan' or invalid emails from original df\n",
        "clean_df = df.drop(combined_df.index)\n",
        "\n",
        "\n",
        "# Save cleaned data to cleanPionex.csv\n",
        "clean_df.to_csv('cleanPionex.csv', index=False)\n",
        "\n",
        "print(\"garbagePionex.csv created with rows containing 'Nan' and invalid emails.\")\n",
        "print(\"cleanPionex.csv created with cleaned data.\")"
      ],
      "metadata": {
        "colab": {
          "base_uri": "https://localhost:8080/"
        },
        "id": "uUQECjQ-GLdo",
        "outputId": "9c260196-75b6-4677-addf-780953312849"
      },
      "execution_count": 55,
      "outputs": [
        {
          "output_type": "stream",
          "name": "stdout",
          "text": [
            "garbagePionex.csv created with rows containing 'Nan' and invalid emails.\n",
            "cleanPionex.csv created with cleaned data.\n"
          ]
        }
      ]
    },
    {
      "cell_type": "code",
      "source": [
        "# prompt: using garbagePionex check data for Nan values, check for invalid emails\n",
        "\n",
        "import pandas as pd\n",
        "import re\n",
        "\n",
        "# Load the dataframe.\n",
        "df = pd.read_csv('garbage5.csv')\n",
        "\n",
        "# Function to check for valid email format\n",
        "def is_valid_email(email):\n",
        "    # Regular expression for basic email validation\n",
        "    pattern = r\"^[a-zA-Z0-9._%+-]+@[a-zA-Z0-9.-]+\\.[a-zA-Z]{2,}$\"\n",
        "    return bool(re.fullmatch(pattern, str(email)))\n",
        "\n",
        "\n",
        "# Extract rows with 'Nan' in any field\n",
        "nan_rows = df[df.apply(lambda row: row.astype(str).str.contains('Nan').any(), axis=1)]\n",
        "\n",
        "# Extract invalid emails\n",
        "invalid_emails = df[~df['Email'].apply(is_valid_email)]\n",
        "\n",
        "\n",
        "# Save NaN rows and invalid emails to garbagePionex.csv\n",
        "combined_df = pd.concat([nan_rows, invalid_emails]).drop_duplicates()\n",
        "combined_df.to_csv('garbagePionex.csv', index=False)\n",
        "\n",
        "# Remove rows with 'Nan' or invalid emails from original df\n",
        "clean_df = df.drop(combined_df.index)\n",
        "\n",
        "# Save cleaned data to cleanPionex.csv\n",
        "clean_df.to_csv('cleanPionex.csv', index=False)\n",
        "\n",
        "print(\"garbagePionex.csv created with rows containing 'Nan' and invalid emails.\")\n",
        "print(\"cleanPionex.csv created with cleaned data.\")"
      ],
      "metadata": {
        "colab": {
          "base_uri": "https://localhost:8080/"
        },
        "id": "GEq039X2NkBM",
        "outputId": "778cca8f-82eb-4c93-a705-d97fd95acfa8"
      },
      "execution_count": 57,
      "outputs": [
        {
          "output_type": "stream",
          "name": "stdout",
          "text": [
            "garbagePionex.csv created with rows containing 'Nan' and invalid emails.\n",
            "cleanPionex.csv created with cleaned data.\n"
          ]
        }
      ]
    }
  ]
}